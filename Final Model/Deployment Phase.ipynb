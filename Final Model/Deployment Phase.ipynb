{
 "cells": [
  {
   "cell_type": "code",
   "execution_count": 1,
   "id": "791028db-dde7-416e-893a-c7e468e61bcd",
   "metadata": {},
   "outputs": [],
   "source": [
    "import pickle\n",
    "import numpy as np"
   ]
  },
  {
   "cell_type": "code",
   "execution_count": 2,
   "id": "b0a3b661-1baa-414c-9c02-55c16b014fa5",
   "metadata": {},
   "outputs": [],
   "source": [
    "Model=pickle.load(open('final_model.sav','rb'))"
   ]
  },
  {
   "cell_type": "code",
   "execution_count": 3,
   "id": "0333e049-cc84-4164-8105-5ad788555092",
   "metadata": {},
   "outputs": [],
   "source": [
    "sc=pickle.load(open('sc.sav','rb'))"
   ]
  },
  {
   "cell_type": "code",
   "execution_count": null,
   "id": "30600318-8a11-4415-b025-1c38fa4b9915",
   "metadata": {},
   "outputs": [],
   "source": [
    "Project_size=int(input(\"Enter  Project Size (CAD)=\"))\n",
    "Disputes=float(input(\"Enter no. of Disputes Filed=\"))\n",
    "Paydelay=float(input(\"Enter Average Payment Delay (Days)=\"))\n",
    "Past_Projects=float(input(\"Enter no. of Past Projects=\"))\n",
    "CS=float(input(\"Enter Credit Score (0-100)=\"))\n",
    "Industry_Industrial=float(input(\"Enter 1 if Industry is Industrial or else 0=\"))\n",
    "Industry_Infrastructure=int(input(\"Enter 1 if Industry is Infrastructure or else 0=\"))\n",
    "\n",
    "input_data=[[Project_size]]\n",
    "scaled_data=sc.transform(input_data)[0]\n",
    "final=[list(scaled_data)+[Disputes,Paydelay,Past_Projects,CS,Industry_Industrial,Industry_Infrastructure]]\n",
    "Prediction=(Model.predict(final))"
   ]
  },
  {
   "cell_type": "code",
   "execution_count": 8,
   "id": "ce8a4dfc-ab51-4049-94d7-7d14c28afff3",
   "metadata": {},
   "outputs": [
    {
     "data": {
      "text/plain": [
       "array([0])"
      ]
     },
     "execution_count": 8,
     "metadata": {},
     "output_type": "execute_result"
    }
   ],
   "source": [
    "Prediction"
   ]
  },
  {
   "cell_type": "markdown",
   "id": "2165ba9a-6d89-4c93-bfc7-b8f7ef4a0a5f",
   "metadata": {},
   "source": [
    "Output"
   ]
  },
  {
   "cell_type": "code",
   "execution_count": null,
   "id": "60464bbf-3881-46af-ac07-f3cca39ca8ba",
   "metadata": {},
   "outputs": [],
   "source": []
  }
 ],
 "metadata": {
  "kernelspec": {
   "display_name": "Python 3 (ipykernel)",
   "language": "python",
   "name": "python3"
  },
  "language_info": {
   "codemirror_mode": {
    "name": "ipython",
    "version": 3
   },
   "file_extension": ".py",
   "mimetype": "text/x-python",
   "name": "python",
   "nbconvert_exporter": "python",
   "pygments_lexer": "ipython3",
   "version": "3.11.0"
  }
 },
 "nbformat": 4,
 "nbformat_minor": 5
}
